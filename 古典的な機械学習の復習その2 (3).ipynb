{
  "nbformat": 4,
  "nbformat_minor": 0,
  "metadata": {
    "colab": {
      "provenance": []
    },
    "kernelspec": {
      "name": "python3",
      "display_name": "Python 3"
    },
    "language_info": {
      "name": "python"
    }
  },
  "cells": [
    {
      "cell_type": "markdown",
      "source": [
        "# **【はじめに】**\n",
        "\n",
        "前回に続き、今回も機械学習（machine learning）の古典的なアルゴリズムについて復習を行います。具体的には**（1）ロジスティック回帰分析**、及び**（2）サポートベクトルマシーン（SVM）**について学び直します。\n",
        "\n",
        "いずれせもある意味、あまりにも「古典的」であり、深層学習（deep learning）の開発・研究が進み、その発展形による社会変革が加速度的に進んでいる現状ではそれそのものを用いるということは余りないモデル、アルゴリズムです。しかし**前者は深層学習において極めて重要な活性化関数（activation function）を理解する際に重要であり、また後者はrule-basedな人工知能（AI）の最高傑作として、その背後にある数理科学も含め、基本は押さえておくべきもの**です。\n",
        "\n",
        "したがって「次に進むため必ずとおるべき門」であることをよく踏まえた上で以下の演習・課題に取り組んでください。"
      ],
      "metadata": {
        "id": "KKXdDCNsShmK"
      }
    },
    {
      "cell_type": "markdown",
      "source": [
        "# **【ロジスティック回帰分析分析（Logistic regression analysis）】**\n",
        "\n",
        "ロジスティック回帰分析は、いくつかの要因（説明変数）から「2値の結果（目的変数）」が起こる確率を説明・予測することができる統計手法で、多変量解析の手法の１つである。例えば以下の様な場合に利用される。\n",
        "\n",
        "\n",
        "*   顧客がどのような理由で商品を購入するのか可能性を分析する\n",
        "*   ある病気になるリスクを、生活習慣などの複数の要因から予測する\n",
        "*   どのチャネルの広告配信が最も効果的かを調べる\n",
        "\n",
        "数理科学的にどの様に説明を行うことが出来るのかについては、例えば[こちらを参照する](https://bellcurve.jp/statistics/course/26934.html?srsltid=AfmBOoqg4OhvUzQMWT1-degw5n751zTmg-SqhAJWakZEq9eVwoCOrHFH)と分かりやすい。\n",
        "\n",
        "大事なことは**目的変数が0か1かである時に、そのまま線形回帰を行うと0以下あるいは1以上の値も出て来てしまうため、ロジスティック変換を行い、シグモイド関数を用いることで0から1の間に予測値を納められる点**にある。なおeは[ネイピア数](https://ja.wikipedia.org/wiki/%E3%83%8D%E3%82%A4%E3%83%94%E3%82%A2%E6%95%B0)という。\n"
      ],
      "metadata": {
        "id": "_4H3xXGyTkXy"
      }
    },
    {
      "cell_type": "code",
      "execution_count": null,
      "metadata": {
        "id": "UDmUb8VGSZ9k"
      },
      "outputs": [],
      "source": [
        "#数理科学的な概説は以上に止め、まずは簡単な事例でロジスティック回帰分析について手を動かしながら学んでみる。\n",
        "#以下ではまず、乳癌診断結果のデータセット(load_breast_cancer)を用いる。このデータには569人に対する、診断結果を含む30個の説明変数と、それぞれの乳がん診断結果（悪性腫瘍 or 良性腫瘍）の情報が記載されている。これらの説明変数を用いながら、悪性腫瘍か良性腫瘍かを判断する。\n",
        "\n",
        "from sklearn.datasets import load_breast_cancer\n",
        "\n",
        "data =load_breast_cancer()\n",
        "data"
      ]
    },
    {
      "cell_type": "code",
      "source": [
        "#以上だけではデータの全容が分からないので、前処理を進めていく。\n",
        "\n",
        "import seaborn as sns\n",
        "import pandas as pd\n",
        "import matplotlib.pyplot as plt\n",
        "\n",
        "from sklearn.model_selection import train_test_split\n",
        "from sklearn.linear_model import LogisticRegression\n",
        "\n",
        "from sklearn.metrics import confusion_matrix, accuracy_score, precision_score, recall_score, f1_score"
      ],
      "metadata": {
        "id": "SamA-hLbX93i"
      },
      "execution_count": null,
      "outputs": []
    },
    {
      "cell_type": "code",
      "source": [
        "# scikit-learnより癌のデータを抽出する\n",
        "# 前処理によって可視化することでようやく全体像がつかめてくる\n",
        "\n",
        "df_X = pd.DataFrame(data=data.data,columns=data.feature_names)\n",
        "df_y = pd.DataFrame(data=data.target,columns=['cancer'])\n",
        "df = pd.concat([df_X,df_y],axis=1)\n",
        "\n",
        "df"
      ],
      "metadata": {
        "id": "V7ngAkXlYOk4"
      },
      "execution_count": null,
      "outputs": []
    },
    {
      "cell_type": "code",
      "source": [
        "# いくつかの変数で変数同士の関係性を見てみる。\n",
        "\n",
        "sns.pairplot(df.iloc[:,25:], hue='cancer')\n",
        "plt.show()"
      ],
      "metadata": {
        "id": "AI4Zv0d2YoIH"
      },
      "execution_count": null,
      "outputs": []
    },
    {
      "cell_type": "markdown",
      "source": [
        "**【課題】**\n",
        "\n",
        "\n",
        "別の番号を振られている患者（連続した一定の範囲）を指定して、同様に可視化をし、癌の罹患状況について考察せよ。"
      ],
      "metadata": {
        "id": "-EyAxJaPZBoT"
      }
    },
    {
      "cell_type": "code",
      "source": [
        "#以上の準備を前提として、次の解析条件でロジスティック回帰分析を実施する。\n",
        "#(1)説明変数:30個の変数全て使用、（2）目的変数：cancer(0:悪性, 1:良性）、（3）50%のデータを学習データに、残り50%をテストデータとする\n",
        "\n",
        "# 説明変数Xと予測したい変数Yを準備する（yは0,1のカテゴリ変数に変換）\n",
        "X = df.drop('cancer',axis=1)\n",
        "y = df.loc[:,'cancer']\n",
        "\n",
        "X_train, X_test, y_train, y_test = train_test_split(X, y, test_size = 0.5, random_state = 0)"
      ],
      "metadata": {
        "id": "Mj8qs1aLZuhY"
      },
      "execution_count": null,
      "outputs": []
    },
    {
      "cell_type": "code",
      "source": [
        "# 説明変数は標準化しておく(あとで回帰係数を比較するため。このあたりは前回の講義を良く復習しておくこと。)\n",
        "\n",
        "from sklearn.preprocessing import StandardScaler\n",
        "\n",
        "scaler_X = StandardScaler()\n",
        "X_train = scaler_X.fit_transform(X_train)\n",
        "X_test = scaler_X.transform(X_test)"
      ],
      "metadata": {
        "id": "2N54NDAWaoPa"
      },
      "execution_count": null,
      "outputs": []
    },
    {
      "cell_type": "code",
      "source": [
        "# モデルの構築と学習\n",
        "\n",
        "lr = LogisticRegression()\n",
        "lr.fit(X_train, y_train)"
      ],
      "metadata": {
        "id": "3HgHh4smbD8-"
      },
      "execution_count": null,
      "outputs": []
    },
    {
      "cell_type": "code",
      "source": [
        "# 訓練データ,テストデータに対する予測\n",
        "\n",
        "y_pred_train = lr.predict(X_train)\n",
        "y_pred_test = lr.predict(X_test)\n",
        "\n",
        "# 最初の１０サンプルだけ表示してみる\n",
        "\n",
        "print(y_pred_train[:10])\n",
        "print(y_pred_test[:10])"
      ],
      "metadata": {
        "id": "ZHLUOZZbbM1j"
      },
      "execution_count": null,
      "outputs": []
    },
    {
      "cell_type": "markdown",
      "source": [
        "**【課題】**\n",
        "\n",
        "任意の患者番号（連続する複数）を指定し、サンプルを示せ。"
      ],
      "metadata": {
        "id": "K--JpKGZbcfp"
      }
    },
    {
      "cell_type": "code",
      "source": [
        "# 訓練データを用いた予測性能を評価してみる。\n",
        "\n",
        "print('accuracy：', accuracy_score(y_true=y_train, y_pred=y_pred_train))\n",
        "print('precision：', precision_score(y_true=y_train, y_pred=y_pred_train))\n",
        "print('recall：', recall_score(y_true=y_train, y_pred=y_pred_train))\n",
        "print('f1 score：', f1_score(y_true=y_train, y_pred=y_pred_train))\n",
        "print('confusion matrix = \\n', confusion_matrix(y_true=y_train, y_pred=y_pred_train))"
      ],
      "metadata": {
        "id": "oWtLcVB9bpiY"
      },
      "execution_count": null,
      "outputs": []
    },
    {
      "cell_type": "markdown",
      "source": [
        "**【課題】**\n",
        "\n",
        "上記で示した複数の評価指数（metrics）について、それぞれがどの様な意味を持っているのかを調べ、説明せよ。"
      ],
      "metadata": {
        "id": "Bc8YLn9pb1Sp"
      }
    },
    {
      "cell_type": "code",
      "source": [
        "# テストデータを用いた予測性能を評価する。\n",
        "\n",
        "print('accuracy：', accuracy_score(y_true=y_test, y_pred=y_pred_test))\n",
        "print('precision：', precision_score(y_true=y_test, y_pred=y_pred_test))\n",
        "print('recall：', recall_score(y_true=y_test, y_pred=y_pred_test))\n",
        "print('f1 score：', f1_score(y_true=y_test, y_pred=y_pred_test))\n",
        "print('confusion matrix = \\n', confusion_matrix(y_true=y_test, y_pred=y_pred_test))"
      ],
      "metadata": {
        "id": "qUM39dV7cCaW"
      },
      "execution_count": null,
      "outputs": []
    },
    {
      "cell_type": "code",
      "source": [
        "# ROC曲線の描画を行い、AUCの計算（ROC曲線の下側の面積）をしてみる\n",
        "\n",
        "from sklearn.metrics import roc_curve, auc\n",
        "\n",
        "y_score = lr.predict_proba(X_test)[:, 1] # 検証データがクラス1に属する確率\n",
        "fpr, tpr, thresholds = roc_curve(y_true=y_test, y_score=y_score)\n",
        "\n",
        "plt.plot(fpr, tpr, label='roc curve (area = %0.3f)' % auc(fpr, tpr))\n",
        "plt.plot([0, 1], [0, 1], linestyle='--', label='random')\n",
        "plt.plot([0, 0, 1], [0, 1, 1], linestyle='--', label='ideal')\n",
        "plt.legend()\n",
        "plt.title('ROC curve of test sample',fontsize=15)\n",
        "plt.xlabel('false positive rate',fontsize=15)\n",
        "plt.ylabel('true positive rate',fontsize=15)\n",
        "plt.show()"
      ],
      "metadata": {
        "id": "F2hYxZOicOnG"
      },
      "execution_count": null,
      "outputs": []
    },
    {
      "cell_type": "markdown",
      "source": [
        "**【課題】**\n",
        "\n",
        "上記で示されるテストデータに基づくROC曲線について解釈を述べよ。またそれに基づいて、このモデル構築は成功であったと言えるかどうか？判断せよ。"
      ],
      "metadata": {
        "id": "4qoyFXtRc3Mn"
      }
    },
    {
      "cell_type": "code",
      "source": [
        "#回帰係数の高い10個の変数を示してみる。\n",
        "\n",
        "import numpy as np\n",
        "\n",
        "# 回帰係数を格納したpandasDataFrameの表示\n",
        "\n",
        "df_coef =  pd.DataFrame({'coefficient':lr.coef_.flatten()}, index=X.columns)\n",
        "df_coef['coef_abs'] = abs(df_coef['coefficient'])\n",
        "df_coef.sort_values(by='coef_abs', ascending=True,inplace=True)\n",
        "df_coef = df_coef.iloc[-10:,:]\n",
        "\n",
        "# グラフの作成\n",
        "x_pos = np.arange(len(df_coef))\n",
        "\n",
        "fig = plt.figure(figsize=(6,6))\n",
        "ax1 = fig.add_subplot(1, 1, 1)\n",
        "ax1.barh(x_pos, df_coef['coefficient'], color='b')\n",
        "ax1.set_title('coefficient of variables',fontsize=18)\n",
        "ax1.set_yticks(x_pos)\n",
        "ax1.set_yticks(np.arange(-1,len(df_coef.index))+0.5, minor=True)\n",
        "ax1.set_yticklabels(df_coef.index, fontsize=14)\n",
        "ax1.set_xticks(np.arange(-10,11,2)/10)\n",
        "ax1.set_xticklabels(np.arange(-10,11,2)/10,fontsize=12)\n",
        "ax1.grid(which='minor',axis='y',color='black',linestyle='-', linewidth=1)\n",
        "ax1.grid(which='major',axis='x',linestyle='--', linewidth=1)\n",
        "plt.show()"
      ],
      "metadata": {
        "id": "sHiKUIckdKhf"
      },
      "execution_count": null,
      "outputs": []
    },
    {
      "cell_type": "markdown",
      "source": [
        "**【課題】**\n",
        "\n",
        "上記に基づき、最も影響が強い変数は何であると考えられるか？説明せよ。"
      ],
      "metadata": {
        "id": "ZRWk1ia8d5zu"
      }
    },
    {
      "cell_type": "markdown",
      "source": [
        "**【課題】**\n",
        "\n",
        "上記のモデル構築ではハイパーパラメータのチューニングは度外視した。（1）ロジスティック回帰分析のsklearn上のライブラリーについて、どの様なハイパーパラメータがあるのかについてまずは調べた上で、（2）実際にチューニングを試み、結果を考察せよ。"
      ],
      "metadata": {
        "id": "h7FehFwEeXMm"
      }
    },
    {
      "cell_type": "markdown",
      "source": [
        "**【課題】**\n",
        "\n",
        "上記では二項分類としてのロジスティック回帰分析を実装したが、これとは別にロジスティック回帰分析は多項分類にも用いることが出来る。\n",
        "\n",
        "そこで0～9までのデジタル数字のデータを用いて（digits = load_digits()）、多項分離をロジスティック回帰分析で実装するモデルを構築し、性能を評価せよ。"
      ],
      "metadata": {
        "id": "Z2RmfpGHfbEW"
      }
    },
    {
      "cell_type": "markdown",
      "source": [
        "# **【補論：活性化関数（activation function）】**\n",
        "\n",
        "活性化関数（activation function）は入力信号の総和がどのように活性化するかを決定する役割を持つ。深層学習（deep learning）においては極めて重要な役割を持つが、ロジスティック回帰分析で登場するシグモイド関数とその周辺が活性化関数として用いられることに留意して学習していきたい。以下に例を示す。\n"
      ],
      "metadata": {
        "id": "bsXPDFDtvLHJ"
      }
    },
    {
      "cell_type": "code",
      "source": [
        "#ステップ関数\n",
        "\n",
        "import numpy as np\n",
        "import matplotlib.pylab as plt\n",
        "\n",
        "def step_function(x):\n",
        "  y = x > 0\n",
        "  # Replace np.int with the built-in int\n",
        "  return y.astype(int)\n",
        "\n",
        "x = np.arange(-5.0, 5.0, 0.1)\n",
        "y = step_function(x)\n",
        "plt.plot(x, y)\n",
        "plt.ylim(-0.1, 1.1)\n",
        "plt.show()"
      ],
      "metadata": {
        "id": "2AoyHlOcvqz6"
      },
      "execution_count": null,
      "outputs": []
    },
    {
      "cell_type": "code",
      "source": [
        "#シグモイド関数\n",
        "\n",
        "import numpy as np\n",
        "import matplotlib.pylab as plt\n",
        "\n",
        "def sigmoid(x):\n",
        "  return 1 / (1+np.exp(-x))\n",
        "\n",
        "x = np.arange(-5.0, 5.0, 0.1)\n",
        "y = sigmoid(x)\n",
        "plt.plot(x, y)\n",
        "plt.ylim(-0.1, 1.1)\n",
        "plt.show()"
      ],
      "metadata": {
        "id": "EwH3h7vewA0v"
      },
      "execution_count": null,
      "outputs": []
    },
    {
      "cell_type": "code",
      "source": [
        "#ReLU関数\n",
        "\n",
        "import numpy as np\n",
        "import matplotlib.pylab as plt\n",
        "\n",
        "def relu(x):\n",
        "  return np.maximum(0, x)\n",
        "\n",
        "x = np.arange(-5.0, 5.0, 0.1)\n",
        "y = relu(x)\n",
        "plt.plot(x, y)\n",
        "plt.show()"
      ],
      "metadata": {
        "id": "XutJp1l3wKcz"
      },
      "execution_count": null,
      "outputs": []
    },
    {
      "cell_type": "code",
      "source": [
        "#恒等関数\n",
        "\n",
        "import numpy as np\n",
        "import matplotlib.pylab as plt\n",
        "\n",
        "def koutou(a):\n",
        "  return a\n",
        "\n",
        "x = np.arange(-5, 5, 0.1)\n",
        "y = koutou(x)\n",
        "plt.plot(x, y)\n",
        "plt.show()"
      ],
      "metadata": {
        "id": "4fHbi8UHwU8y"
      },
      "execution_count": null,
      "outputs": []
    },
    {
      "cell_type": "code",
      "source": [
        "#ソフトマックス関数\n",
        "\n",
        "import numpy as np\n",
        "import matplotlib.pylab as plt\n",
        "\n",
        "def softmax(a):\n",
        "  exp_a = np.exp(a)\n",
        "  sum_exp_a = np.sum(exp_a)\n",
        "  y = exp_a / sum_exp_a\n",
        "  return y\n",
        "\n",
        "x = np.arange(-5, 5, 0.1)\n",
        "y = softmax(x)\n",
        "plt.plot(x, y)\n",
        "plt.show()"
      ],
      "metadata": {
        "id": "6c_eEhPVwf70"
      },
      "execution_count": null,
      "outputs": []
    },
    {
      "cell_type": "markdown",
      "source": [
        "# **【サポートベクトルマシーン（Support vector machine (SVM)】**\n",
        "\n",
        "サポートベクトルマシーンとは教師あり学習を用いるパターン認識モデルの1つであり、分類や回帰へ適用できるアルゴリズムである。具体的には、**線形入力素子を利用して2クラスのパターン識別器を構成する手法であり、訓練サンプルから、各データ点との距離が最大となるマージン最大化超平面を求めるという基準（超平面分離定理）で線形入力素子のパラメータを学習**する。\n",
        "\n",
        "下記は2クラスのサンプルで学習したSVMの最大マージン超平面とマージンの例である。マージン上のサンプルは**サポートベクター**と呼ばれる。\n",
        "\n",
        "\n",
        "![image.png](data:image/png;base64,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)\n",
        "\n"
      ],
      "metadata": {
        "id": "D6x29e8iguDd"
      }
    },
    {
      "cell_type": "markdown",
      "source": [
        "サポートベクトルマシーンを支える数理科学を理解しておくことがアカデミアの上では必要だが、実装と言う観点では二の次とされることが多いのも事実である。\n",
        "\n",
        "しかし理系の学生諸君は特に原理的なところ（特にカーネル法、双対問題など）についても理解しておくことが重要ではある。参考として以下のURLを掲げておきたい。\n",
        "\n",
        "\n",
        "\n",
        "*   [サポートベクターマシンを図でやさしく理解する(理論+実装)【機械学習入門34】](https://datawokagaku.com/svm/)\n",
        "*   [SVMをはじめから丁寧に](https://zenn.dev/ama_c/articles/11a53b9f5aecdf)\n",
        "\n",
        "\n",
        "*   [機械学習の定番「サポートベクターマシン（SVM）」を高校生でもわかるよう解説](https://qiita.com/c60evaporator/items/8864f7c1384a3c6e9bd9)\n",
        "\n",
        "\n",
        "\n",
        "\n",
        "\n"
      ],
      "metadata": {
        "id": "pn6Jh0fbh512"
      }
    },
    {
      "cell_type": "code",
      "source": [
        "#以上で概要をつかんだことを前提としつつ、まずは簡単なSVMのモデル構築を行ってみる。\n",
        "#前回の講義でも用いた有名なアヤメのデータセットを用いて、分類問題を解いてみる。\n",
        "\n",
        "from sklearn.datasets import load_iris\n",
        "import pandas as pd\n",
        "\n",
        "iris = load_iris()\n",
        "iris_df = pd.DataFrame(iris.data, columns=iris.feature_names)\n",
        "\n",
        "print(iris_df.head())"
      ],
      "metadata": {
        "id": "oqF2E8KCkrNS"
      },
      "execution_count": null,
      "outputs": []
    },
    {
      "cell_type": "code",
      "source": [
        "#kのデータセットにはSetosa、Virginica、Virginicaの3品種に関するデータが50個ずつ入っており、正解データは以下で示すことが出来る。\n",
        "\n",
        "print(iris.target)"
      ],
      "metadata": {
        "id": "qZzo5YJclRL5"
      },
      "execution_count": null,
      "outputs": []
    },
    {
      "cell_type": "code",
      "source": [
        "#今回はsetosa、versicolorのpetal lengthとpetal widthのデータを用いて分類を行ってみる。\n",
        "#まずは必要なライブラリーをダウンロードし、次にデータセットを前処理する。\n",
        "\n",
        "import matplotlib.pyplot as plt\n",
        "from sklearn.model_selection import train_test_split\n",
        "from sklearn.svm import LinearSVC\n",
        "from sklearn.datasets import load_iris\n",
        "\n",
        "!pip install mglearn\n",
        "import mglearn\n"
      ],
      "metadata": {
        "id": "BjdMPI39lk1U"
      },
      "execution_count": null,
      "outputs": []
    },
    {
      "cell_type": "code",
      "source": [
        "iris = load_iris()\n",
        "X = iris.data[:100, 2:]\n",
        "Y = iris.target[:100]\n",
        "print(X.shape)\n",
        "print(Y.shape)"
      ],
      "metadata": {
        "id": "4crkkufGmKGu"
      },
      "execution_count": null,
      "outputs": []
    },
    {
      "cell_type": "code",
      "source": [
        "#抽出したデータを描画してみる。まずはこの様に可視化するのが基本中の基本。\n",
        "\n",
        "mglearn.discrete_scatter(X[:, 0], X[:, 1], Y)\n",
        "plt.legend(['setosa', 'versicolor'], loc='best')\n",
        "plt.show()"
      ],
      "metadata": {
        "id": "KjxTjwcimLz0"
      },
      "execution_count": null,
      "outputs": []
    },
    {
      "cell_type": "code",
      "source": [
        "#上記の可視化により、明らかに線形分離を、単純な形で出来ることが分かった。\n",
        "#そこで早速SVMでモデル構築をし、実装してみることにする。\n",
        "\n",
        "X_train, X_test, Y_train, Y_test = train_test_split(X, Y, stratify=Y, random_state=0)\n",
        "svm = LinearSVC()\n",
        "svm.fit(X_train, Y_train)"
      ],
      "metadata": {
        "id": "Utz28D7_mtN1"
      },
      "execution_count": null,
      "outputs": []
    },
    {
      "cell_type": "code",
      "source": [
        "#以下で可視化をし、どの様なモデルになったのかを見てみる。\n",
        "\n",
        "plt.figure(figsize=(10, 6))\n",
        "mglearn.plots.plot_2d_separator(svm, X)\n",
        "mglearn.discrete_scatter(X[:, 0], X[:, 1], Y)\n",
        "plt.xlabel('petal length')\n",
        "plt.ylabel('petal width')\n",
        "plt.legend(['setosa', 'versicolor'], loc='best')\n",
        "plt.show()"
      ],
      "metadata": {
        "id": "91YiqV4qnBGs"
      },
      "execution_count": null,
      "outputs": []
    },
    {
      "cell_type": "code",
      "source": [
        "#以上はSVMを持ち出すまでもない事例であった。\n",
        "#そこで対象が入り組んでしまっている、いわゆるソフトマージンの例についてモデル構築を次に行ってみる。\n",
        "\n",
        "import matplotlib.pyplot as plt\n",
        "from sklearn.model_selection import train_test_split\n",
        "from sklearn.svm import LinearSVC\n",
        "from sklearn.datasets import load_iris\n",
        "import mglearn\n",
        "\n",
        "iris = load_iris()\n",
        "\n",
        "X = iris.data[50:, 2:]\n",
        "Y = iris.target[50:] - 1\n",
        "\n",
        "mglearn.discrete_scatter(X[:, 0], X[:, 1], Y)\n",
        "plt.legend(['versicolor', 'virginica'], loc='best')\n",
        "plt.show()"
      ],
      "metadata": {
        "id": "cLB-BfpynQip"
      },
      "execution_count": null,
      "outputs": []
    },
    {
      "cell_type": "code",
      "source": [
        "#上図で明らかなのは、これについて線形分離をすることが不可能であるということ。\n",
        "#そこで線形SVMを用いて、ソフトマージンを導出してみる。\n",
        "\n",
        "def make_separate(model):\n",
        "    mglearn.plots.plot_2d_separator(svm, X)\n",
        "    mglearn.discrete_scatter(X[:, 0], X[:, 1], Y)\n",
        "    plt.xlabel('petal length')\n",
        "    plt.ylabel('petal width')\n",
        "    plt.legend(['setosa', 'versicolor'], loc='best')\n",
        "    plt.show()\n"
      ],
      "metadata": {
        "id": "vDlmSYJundVa"
      },
      "execution_count": null,
      "outputs": []
    },
    {
      "cell_type": "code",
      "source": [
        "#ハイパーパラメータCを0.1にしてみる。C値が高い場合、モデルは訓練データに対してより厳密にフィットしようと試み、結果として複雑なモデルが生成される。\n",
        "\n",
        "X_train, X_test, Y_train, Y_test = train_test_split(X, Y, stratify=Y, random_state=0)\n",
        "svm = LinearSVC(C=0.1)\n",
        "svm.fit(X_train, Y_train)\n",
        "make_separate(svm)\n",
        "print(svm.score(X_test, Y_test))"
      ],
      "metadata": {
        "id": "6BEb7251oMqb"
      },
      "execution_count": null,
      "outputs": []
    },
    {
      "cell_type": "markdown",
      "source": [
        "**【課題】**\n",
        "\n",
        "C値を100に設定し、同様に演算の上、描画せよ。"
      ],
      "metadata": {
        "id": "Z9Il8saooe6-"
      }
    },
    {
      "cell_type": "code",
      "source": [
        "#次に線形分離が不可能な問題について、カーネル法を用いて分類してみる。\n",
        "#なおカーネル法についてはこちらから学習すること。→　https://qiita.com/renesisu727/items/1c6014c909202ff089f3\n",
        "\n",
        "#まずはデータセットを描画する。\n",
        "\n",
        "import numpy as np\n",
        "import matplotlib.pyplot as plt\n",
        "from sklearn.datasets import make_moons\n",
        "from sklearn.model_selection import train_test_split\n",
        "from sklearn.preprocessing import StandardScaler\n",
        "from sklearn.pipeline import Pipeline\n",
        "from sklearn.svm import SVC\n",
        "\n",
        "moons = make_moons(n_samples=300, noise=0.2, random_state=0)\n",
        "\n",
        "X = moons[0]\n",
        "Y = moons[1]\n",
        "plt.figure(figsize=(12, 8))\n",
        "mglearn.discrete_scatter(X[:, 0], X[:, 1], Y)\n",
        "plt.plot()\n",
        "plt.show()"
      ],
      "metadata": {
        "id": "8NMp2q79pDi9"
      },
      "execution_count": null,
      "outputs": []
    },
    {
      "cell_type": "code",
      "source": [
        "#学習データとテストデータに分割しておく。\n",
        "\n",
        "X_train, X_test, Y_train, Y_test = train_test_split(X, Y, stratify=Y, random_state=0)"
      ],
      "metadata": {
        "id": "TKBioSXGqW17"
      },
      "execution_count": null,
      "outputs": []
    },
    {
      "cell_type": "code",
      "source": [
        "#モデルを実装する。\n",
        "\n",
        "karnel_svm = Pipeline([\n",
        "    ('scaler', StandardScaler()),\n",
        "    ('svm', SVC(kernel='poly', degree=3, coef0=1))\n",
        "])\n",
        "\n",
        "karnel_svm.fit(X_train, Y_train)"
      ],
      "metadata": {
        "id": "b8Lc7pvGqkBW"
      },
      "execution_count": null,
      "outputs": []
    },
    {
      "cell_type": "markdown",
      "source": [
        "**【課題】**\n",
        "\n",
        "上記のモデル構築でハイパーパラメータとして入力した「poly」及び「degree=3」とはどの様な意味なのかを調べて答えよ。"
      ],
      "metadata": {
        "id": "DoiLYF0Uq5fz"
      }
    },
    {
      "cell_type": "code",
      "source": [
        "#上記のモデルを早速図示してみる。\n",
        "\n",
        "def plot_decision_function(model):\n",
        "    _x0 = np.linspace(-1.7, 2.7, 100)\n",
        "    _x1 = np.linspace(-1.5, 1.7, 100)\n",
        "    x0, x1 = np.meshgrid(_x0, _x1)\n",
        "    X = np.hstack((x0.ravel().reshape(-1, 1), x1.ravel().reshape(-1, 1)))\n",
        "    y_decision = model.decision_function(X).reshape(x0.shape)\n",
        "    plt.contourf(x0, x1, y_decision, levels=[y_decision.min(), 0, y_decision.max()], alpha=0.3)\n",
        "\n",
        "def plot_dataset(x, y):\n",
        "    plt.plot(x[:, 0][y == 0], x[:, 1][y == 0], 'bo', ms=15)\n",
        "    plt.plot(x[:, 0][y == 1], x[:, 1][y == 1], 'r^', ms=15)\n",
        "    plt.xlabel('$x_1$', fontsize=20)\n",
        "    plt.ylabel('$x_2$', fontsize=20, rotation=0)\n",
        "\n",
        "plt.figure(figsize=(12, 8))\n",
        "plot_decision_function(karnel_svm)\n",
        "plot_dataset(X, Y)\n",
        "plt.show()"
      ],
      "metadata": {
        "id": "qwSFOsFqrEWR"
      },
      "execution_count": null,
      "outputs": []
    },
    {
      "cell_type": "markdown",
      "source": [
        "# **【統合課題】**\n",
        "\n",
        "前回と今回の講義で学んだことを踏まえ、「アヤメのデータセット」を用いつつ、2項分類問題を任意のアヤメの種類について設定した上で、（1）k-近傍法、（2）ロジスティック回帰分析、（3）SVM、のそれぞれでモデル構築を行え。結果について比較検討せよ。"
      ],
      "metadata": {
        "id": "h59nKHf9rVKz"
      }
    }
  ]
}